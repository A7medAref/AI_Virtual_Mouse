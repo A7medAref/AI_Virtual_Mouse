{
 "cells": [
  {
   "cell_type": "code",
   "execution_count": 50,
   "id": "d12deae9",
   "metadata": {},
   "outputs": [
    {
     "name": "stdout",
     "output_type": "stream",
     "text": [
      "Requirement already satisfied: opencv-python in c:\\users\\lap2\\anaconda3\\lib\\site-packages (4.6.0.66)\n",
      "Requirement already satisfied: numpy>=1.14.5 in c:\\users\\lap2\\anaconda3\\lib\\site-packages (from opencv-python) (1.20.1)\n",
      "Requirement already satisfied: autopy in c:\\users\\lap2\\anaconda3\\lib\\site-packages (4.0.0)\n"
     ]
    }
   ],
   "source": [
    "!pip install opencv-python\n",
    "import numpy as np\n",
    "import cv2\n",
    "import time \n",
    "!pip install -U autopy\n",
    "import autopy"
   ]
  },
  {
   "cell_type": "code",
   "execution_count": 51,
   "id": "d4270e17",
   "metadata": {},
   "outputs": [],
   "source": [
    "#moving mouse coordinates\n",
    "def move_mouse_by_defference(x_new,y_new):\n",
    "    x0,y0=autopy.mouse.location()\n",
    "    autopy.mouse.move(x0+x_new,y0+y_new)\n",
    "move_mouse_by_defference(-30,150)"
   ]
  },
  {
   "cell_type": "code",
   "execution_count": 53,
   "id": "0dba8159",
   "metadata": {},
   "outputs": [],
   "source": [
    "#Holds down or releases the given mouse button in the current position.\n",
    "#Button can be LEFT, RIGHT, MIDDLE, or None to default to the left button.\n",
    "def click_mouse_left():\n",
    "    autopy.mouse.click(autopy.mouse.Button.LEFT)\n",
    "click_mouse_left()"
   ]
  },
  {
   "cell_type": "code",
   "execution_count": 58,
   "id": "861d0e74",
   "metadata": {},
   "outputs": [],
   "source": [
    "def click_mouse_right():\n",
    "    autopy.mouse.click(button=autopy.mouse.Button.RIGHT)\n",
    "click_mouse_right()"
   ]
  }
 ],
 "metadata": {
  "kernelspec": {
   "display_name": "Python 3",
   "language": "python",
   "name": "python3"
  },
  "language_info": {
   "codemirror_mode": {
    "name": "ipython",
    "version": 3
   },
   "file_extension": ".py",
   "mimetype": "text/x-python",
   "name": "python",
   "nbconvert_exporter": "python",
   "pygments_lexer": "ipython3",
   "version": "3.8.8"
  }
 },
 "nbformat": 4,
 "nbformat_minor": 5
}
